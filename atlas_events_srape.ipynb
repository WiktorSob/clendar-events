{
 "cells": [
  {
   "cell_type": "code",
   "execution_count": 8,
   "metadata": {},
   "outputs": [],
   "source": [
    "import requests\n",
    "import html\n",
    "from bs4 import BeautifulSoup\n",
    "import unicodedata\n",
    "from unidecode import unidecode\n",
    "\n",
    "from datetime import datetime, timezone\n",
    "import datetime\n",
    "import os.path\n",
    "\n",
    "from google.auth.transport.requests import Request\n",
    "from google.oauth2.credentials import Credentials\n",
    "from google_auth_oauthlib.flow import InstalledAppFlow\n",
    "from googleapiclient.discovery import build\n",
    "from googleapiclient.errors import HttpError\n"
   ]
  },
  {
   "cell_type": "code",
   "execution_count": 26,
   "metadata": {},
   "outputs": [
    {
     "data": {
      "text/plain": [
       "'2012-12-12T12:21:21+01:00'"
      ]
     },
     "execution_count": 26,
     "metadata": {},
     "output_type": "execute_result"
    }
   ],
   "source": [
    "datetime.strptime('12/12/2012 12:21:21', '%d/%m/%Y %H:%M:%S')\n",
    "datetime.strptime('12/12/2012 12:21:21', '%d/%m/%Y %H:%M:%S').astimezone().isoformat()"
   ]
  },
  {
   "cell_type": "code",
   "execution_count": 2,
   "metadata": {},
   "outputs": [],
   "source": [
    "link = 'https://atlasarena.pl/wydarzenia'\n",
    "cal_id = 'b294857be2068a08a31b53cd01ccd7fb6178edd36b21fcea91c0c14f6c01ee76@group.calendar.google.com'"
   ]
  },
  {
   "cell_type": "code",
   "execution_count": 3,
   "metadata": {},
   "outputs": [],
   "source": [
    "def _get_website(link):\n",
    "    response = requests.get(link)\n",
    "    content = response.content.decode('utf-8')\n",
    "    content = html.unescape(content)\n",
    "    content = unicodedata.normalize(\"NFKD\", content)\n",
    "    soup = BeautifulSoup(content, 'html.parser')\n",
    "    return soup"
   ]
  },
  {
   "cell_type": "code",
   "execution_count": 4,
   "metadata": {},
   "outputs": [],
   "source": [
    "soup = _get_website(link)\n",
    "dates = soup.find_all('div', {'class' : 'date'})\n",
    "titles = soup.find_all('h2')"
   ]
  },
  {
   "cell_type": "code",
   "execution_count": 5,
   "metadata": {},
   "outputs": [],
   "source": [
    "months_dict = {'stycznia' : '1',\n",
    "               'lutego' : '2',\n",
    "               'marca' : '3',\n",
    "               'kwietnia' : '4',\n",
    "               'maja' : '5',\n",
    "               'czerwca' : '6',\n",
    "               'lipca' : '7',\n",
    "               'sierpnia' : '8',\n",
    "               'września': '9',\n",
    "               'października' : '10',\n",
    "               'listopada' : '11',\n",
    "               'grudnia' : '12'}"
   ]
  },
  {
   "cell_type": "code",
   "execution_count": 36,
   "metadata": {},
   "outputs": [],
   "source": [
    "events_insert = []\n",
    "\n",
    "for date, title in zip(dates, titles):\n",
    "    event_metadata = {}\n",
    "    event_date = date.get_text().strip().split()\n",
    "    event_date[1] = months_dict.get(event_date[1].lower())\n",
    "    \n",
    "    start_date = '/'.join(map(str,event_date)) + ' 17:00:00'\n",
    "    start_date = datetime.datetime.strptime(start_date, '%d/%m/%Y %H:%M:%S').astimezone().isoformat()\n",
    "    \n",
    "    end_date = '/'.join(map(str,event_date)) + ' 18:30:00'\n",
    "    end_date = datetime.datetime.strptime(end_date, '%d/%m/%Y %H:%M:%S').astimezone().isoformat()\n",
    "    \n",
    "    event_title = title.get_text().strip()\n",
    "    \n",
    "    # event_metadata['summary'] = 'Atlas Arena Event'\n",
    "    # event_metadata['description'] = event_title\n",
    "    # event_metadata['start'] = {'dateTime' : start_date}\n",
    "    # event_metadata['end'] = {'dateTime' : end_date}\n",
    "    # event_metadata['reminders'] = {'useDefault' : False,\n",
    "    #                                'overrides' : [\n",
    "    #                                    {'method' : 'popup', 'minutes' : 15} \n",
    "                                #    ]}\n",
    "    event_metadata = {'summary' : 'Atlas Arena Event',\n",
    "                    'description' : event_title,\n",
    "                    'start' : {'dateTime': start_date},\n",
    "                    'end' : {'dateTime': end_date},\n",
    "                    'reminders' : {'useDefault': False,\n",
    "                                'overrides': [\n",
    "                                    {'method': 'popup',\n",
    "                                    'minutes': 15}]}}\n",
    "    \n",
    "    event_key = event_title.replace(' ', '')+ '_' + '-'.join(map(str, event_date))\n",
    "\n",
    "    events_insert.append(event_metadata)\n",
    "    \n",
    "    "
   ]
  },
  {
   "cell_type": "code",
   "execution_count": 43,
   "metadata": {},
   "outputs": [
    {
     "data": {
      "text/plain": [
       "'LouisTomlinson_2023-11-17'"
      ]
     },
     "execution_count": 43,
     "metadata": {},
     "output_type": "execute_result"
    }
   ],
   "source": [
    "event_title.replace(' ', '')+ '_' + start_date.split('T')[0]"
   ]
  },
  {
   "cell_type": "code",
   "execution_count": null,
   "metadata": {},
   "outputs": [],
   "source": [
    "import requests"
   ]
  },
  {
   "cell_type": "code",
   "execution_count": 31,
   "metadata": {},
   "outputs": [
    {
     "data": {
      "text/plain": [
       "'LouisTomlinson_17-11-2023'"
      ]
     },
     "execution_count": 31,
     "metadata": {},
     "output_type": "execute_result"
    }
   ],
   "source": [
    "event_title.replace(' ', '') + '_' +\n",
    "'-'.join(map(str, event_date))"
   ]
  },
  {
   "cell_type": "code",
   "execution_count": 26,
   "metadata": {},
   "outputs": [
    {
     "data": {
      "text/plain": [
       "['17', '11', '2023']"
      ]
     },
     "execution_count": 26,
     "metadata": {},
     "output_type": "execute_result"
    }
   ],
   "source": [
    "event_date."
   ]
  },
  {
   "cell_type": "code",
   "execution_count": 29,
   "metadata": {},
   "outputs": [
    {
     "data": {
      "text/plain": [
       "'17-11-2023'"
      ]
     },
     "execution_count": 29,
     "metadata": {},
     "output_type": "execute_result"
    }
   ],
   "source": [
    "'-'.join(map(str event_date))"
   ]
  },
  {
   "cell_type": "code",
   "execution_count": 44,
   "metadata": {},
   "outputs": [],
   "source": [
    "events_insert_keys = [event['description'].replace(' ', '') + '_' + event['start']['dateTime'].split('T')[0] for event in events_insert]\n"
   ]
  },
  {
   "cell_type": "code",
   "execution_count": 45,
   "metadata": {},
   "outputs": [
    {
     "data": {
      "text/plain": [
       "['ChristmasTime!Concert_2022-12-17',\n",
       " 'EnnioMorricone–TheOfficialConcertCelebration(ODWOŁANE)_2022-12-22',\n",
       " 'KoncertpiosenekK.Krawczyka-przełożony_2023-02-24',\n",
       " 'KoncertMuzykiFilmowej_2023-03-19',\n",
       " 'LadyPankMTVUnplugged_2023-04-22',\n",
       " 'O.S.T.R.120RapFest_2023-04-30',\n",
       " 'AvrilLavigne_2023-05-02',\n",
       " 'ErosRamazzotti_2023-05-09',\n",
       " 'Sabaton_2023-05-12',\n",
       " 'InternationalAnimeMusicFestival2023_2023-06-05',\n",
       " 'MetalHammerFestival2023_2023-06-08',\n",
       " 'AndréRieu_2023-06-10',\n",
       " 'Scorpions_2023-06-23',\n",
       " 'Disney.Księżniczki_2023-06-24',\n",
       " 'Disney.Księżniczki_2023-06-25',\n",
       " 'Disney.Księżniczki_2023-09-11',\n",
       " 'LouisTomlinson_2023-11-17']"
      ]
     },
     "execution_count": 45,
     "metadata": {},
     "output_type": "execute_result"
    }
   ],
   "source": [
    "events_insert_keys"
   ]
  },
  {
   "cell_type": "code",
   "execution_count": 37,
   "metadata": {},
   "outputs": [
    {
     "name": "stdout",
     "output_type": "stream",
     "text": [
      "Atlas Arena Event - Christmas Time! Concert\n",
      "Atlas Arena Event - Ennio Morricone – The Official Concert Celebration (ODWOŁANE)\n",
      "Atlas Arena Event - Koncert piosenek K. Krawczyka-przełożony\n",
      "Atlas Arena Event - Koncert Muzyki Filmowej\n",
      "Atlas Arena Event - Lady Pank MTV Unplugged\n",
      "Atlas Arena Event - O.S.T.R. 120 Rap Fest\n",
      "Atlas Arena Event - Avril Lavigne\n",
      "Atlas Arena Event - Eros Ramazzotti\n",
      "Atlas Arena Event - Sabaton\n",
      "Atlas Arena Event - International Anime Music Festival 2023\n",
      "Atlas Arena Event - Metal Hammer Festival 2023\n",
      "Atlas Arena Event - André Rieu\n",
      "Atlas Arena Event - Scorpions\n",
      "Atlas Arena Event - Disney. Księżniczki\n",
      "Atlas Arena Event - Disney. Księżniczki\n",
      "Atlas Arena Event - Disney. Księżniczki\n",
      "Atlas Arena Event - Louis Tomlinson\n"
     ]
    }
   ],
   "source": [
    "SCOPES = ['https://www.googleapis.com/auth/calendar']\n",
    "creds = None\n",
    "if os.path.exists('token.json'):\n",
    "    creds = Credentials.from_authorized_user_file('token.json', SCOPES)\n",
    "# If there are no (valid) credentials available, let the user log in.\n",
    "if not creds or not creds.valid:\n",
    "    if creds and creds.expired and creds.refresh_token:\n",
    "        creds.refresh(Request())\n",
    "    else:\n",
    "        flow = InstalledAppFlow.from_client_secrets_file(\n",
    "            'credentials.json', SCOPES)\n",
    "        creds = flow.run_local_server(port=50589)\n",
    "    # Save the credentials for the next run\n",
    "    with open('token.json', 'w') as token:\n",
    "        token.write(creds.to_json())\n",
    "\n",
    "try:\n",
    "    service = build('calendar', 'v3', credentials=creds)\n",
    "\n",
    "    now = datetime.datetime.utcnow().isoformat() + 'Z'  # 'Z' indicates UTC time\n",
    "    \n",
    "    events_result = service.events().list(calendarId= cal_id, timeMin=now,\n",
    "                                            singleEvents=True,\n",
    "                                            orderBy='startTime').execute()\n",
    "    events = events_result.get('items', [])\n",
    "\n",
    "    if not events:\n",
    "        print('No upcoming events found.')\n",
    "        \n",
    "    events_keys = [event['description'].replace(' ', '') + '_' +\n",
    "                  event['start']['dateTime'].split('T')[0]\n",
    "                  for event in events]\n",
    "    \n",
    "    for event in events:\n",
    "        print(event['summary'],\"-\",event['description'])\n",
    "    \n",
    "except HttpError as error:\n",
    "    print('An error occurred: %s' % error)"
   ]
  },
  {
   "cell_type": "code",
   "execution_count": 46,
   "metadata": {},
   "outputs": [
    {
     "data": {
      "text/plain": [
       "['ChristmasTime!Concert_2022-12-17',\n",
       " 'EnnioMorricone–TheOfficialConcertCelebration(ODWOŁANE)_2022-12-22',\n",
       " 'KoncertpiosenekK.Krawczyka-przełożony_2023-02-24',\n",
       " 'KoncertMuzykiFilmowej_2023-03-19',\n",
       " 'LadyPankMTVUnplugged_2023-04-22',\n",
       " 'O.S.T.R.120RapFest_2023-04-30',\n",
       " 'AvrilLavigne_2023-05-02',\n",
       " 'ErosRamazzotti_2023-05-09',\n",
       " 'Sabaton_2023-05-12',\n",
       " 'InternationalAnimeMusicFestival2023_2023-06-05',\n",
       " 'MetalHammerFestival2023_2023-06-08',\n",
       " 'AndréRieu_2023-06-10',\n",
       " 'Scorpions_2023-06-23',\n",
       " 'Disney.Księżniczki_2023-06-24',\n",
       " 'Disney.Księżniczki_2023-06-25',\n",
       " 'Disney.Księżniczki_2023-09-11',\n",
       " 'LouisTomlinson_2023-11-17']"
      ]
     },
     "execution_count": 46,
     "metadata": {},
     "output_type": "execute_result"
    }
   ],
   "source": [
    "events_insert_keys"
   ]
  },
  {
   "cell_type": "code",
   "execution_count": 47,
   "metadata": {},
   "outputs": [
    {
     "data": {
      "text/plain": [
       "['ChristmasTime!Concert_2022-12-17',\n",
       " 'EnnioMorricone–TheOfficialConcertCelebration(ODWOŁANE)_2022-12-22',\n",
       " 'KoncertpiosenekK.Krawczyka-przełożony_2023-02-24',\n",
       " 'KoncertMuzykiFilmowej_2023-03-19',\n",
       " 'LadyPankMTVUnplugged_2023-04-22',\n",
       " 'O.S.T.R.120RapFest_2023-04-30',\n",
       " 'AvrilLavigne_2023-05-02',\n",
       " 'ErosRamazzotti_2023-05-09',\n",
       " 'Sabaton_2023-05-12',\n",
       " 'InternationalAnimeMusicFestival2023_2023-06-05',\n",
       " 'MetalHammerFestival2023_2023-06-08',\n",
       " 'AndréRieu_2023-06-10',\n",
       " 'Scorpions_2023-06-23',\n",
       " 'Disney.Księżniczki_2023-06-24',\n",
       " 'Disney.Księżniczki_2023-06-25',\n",
       " 'Disney.Księżniczki_2023-09-11',\n",
       " 'LouisTomlinson_2023-11-17']"
      ]
     },
     "execution_count": 47,
     "metadata": {},
     "output_type": "execute_result"
    }
   ],
   "source": [
    "events_keys"
   ]
  },
  {
   "attachments": {},
   "cell_type": "markdown",
   "metadata": {},
   "source": [
    "b294857be2068a08a31b53cd01ccd7fb6178edd36b21fcea91c0c14f6c01ee76@group.calendar.google.com - atlas\n"
   ]
  },
  {
   "cell_type": "code",
   "execution_count": 48,
   "metadata": {},
   "outputs": [
    {
     "name": "stdout",
     "output_type": "stream",
     "text": [
      "Event ID: ChristmasTime!Concert_2022-12-17 already in calendar\n",
      "Event ID: EnnioMorricone–TheOfficialConcertCelebration(ODWOŁANE)_2022-12-22 already in calendar\n",
      "Event ID: KoncertpiosenekK.Krawczyka-przełożony_2023-02-24 already in calendar\n",
      "Event ID: KoncertMuzykiFilmowej_2023-03-19 already in calendar\n",
      "Event ID: LadyPankMTVUnplugged_2023-04-22 already in calendar\n",
      "Event ID: O.S.T.R.120RapFest_2023-04-30 already in calendar\n",
      "Event ID: AvrilLavigne_2023-05-02 already in calendar\n",
      "Event ID: ErosRamazzotti_2023-05-09 already in calendar\n",
      "Event ID: Sabaton_2023-05-12 already in calendar\n",
      "Event ID: InternationalAnimeMusicFestival2023_2023-06-05 already in calendar\n",
      "Event ID: MetalHammerFestival2023_2023-06-08 already in calendar\n",
      "Event ID: AndréRieu_2023-06-10 already in calendar\n",
      "Event ID: Scorpions_2023-06-23 already in calendar\n",
      "Event ID: Disney.Księżniczki_2023-06-24 already in calendar\n",
      "Event ID: Disney.Księżniczki_2023-06-25 already in calendar\n",
      "Event ID: Disney.Księżniczki_2023-09-11 already in calendar\n",
      "Event ID: LouisTomlinson_2023-11-17 already in calendar\n"
     ]
    }
   ],
   "source": [
    "for event_key, event in zip(events_insert_keys, events_insert):\n",
    "    if event_key in events_keys:\n",
    "        print(f'Event ID: {event_key} already in calendar')\n",
    "    else:\n",
    "        event = service.events().insert(calendarId = cal_id, body = event).execute()\n",
    "        print(f\"event created: { event['description'] }\")"
   ]
  },
  {
   "attachments": {},
   "cell_type": "markdown",
   "metadata": {},
   "source": [
    "błąd"
   ]
  },
  {
   "cell_type": "code",
   "execution_count": 106,
   "metadata": {},
   "outputs": [
    {
     "data": {
      "text/plain": [
       "False"
      ]
     },
     "execution_count": 106,
     "metadata": {},
     "output_type": "execute_result"
    }
   ],
   "source": [
    "'września' == 'września'"
   ]
  },
  {
   "cell_type": "code",
   "execution_count": 107,
   "metadata": {},
   "outputs": [
    {
     "data": {
      "text/plain": [
       "b'wrze\\xc5\\x9bnia'"
      ]
     },
     "execution_count": 107,
     "metadata": {},
     "output_type": "execute_result"
    }
   ],
   "source": [
    "bytes('września', encoding = 'utf-8')"
   ]
  },
  {
   "cell_type": "code",
   "execution_count": 108,
   "metadata": {},
   "outputs": [
    {
     "data": {
      "text/plain": [
       "b'wrzes\\xcc\\x81nia'"
      ]
     },
     "execution_count": 108,
     "metadata": {},
     "output_type": "execute_result"
    }
   ],
   "source": [
    "bytes('września', 'utf-8')"
   ]
  }
 ],
 "metadata": {
  "kernelspec": {
   "display_name": "Python 3.9.7 ('base')",
   "language": "python",
   "name": "python3"
  },
  "language_info": {
   "codemirror_mode": {
    "name": "ipython",
    "version": 3
   },
   "file_extension": ".py",
   "mimetype": "text/x-python",
   "name": "python",
   "nbconvert_exporter": "python",
   "pygments_lexer": "ipython3",
   "version": "3.9.7 (default, Sep 16 2021, 16:59:28) [MSC v.1916 64 bit (AMD64)]"
  },
  "orig_nbformat": 4,
  "vscode": {
   "interpreter": {
    "hash": "14da7f7caf5839cd8ec96b1e0299485a92382ca419f1314183758037b03af0c8"
   }
  }
 },
 "nbformat": 4,
 "nbformat_minor": 2
}
